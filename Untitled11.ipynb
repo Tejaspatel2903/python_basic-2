{
  "nbformat": 4,
  "nbformat_minor": 0,
  "metadata": {
    "colab": {
      "provenance": []
    },
    "kernelspec": {
      "name": "python3",
      "display_name": "Python 3"
    },
    "language_info": {
      "name": "python"
    }
  },
  "cells": [
    {
      "cell_type": "markdown",
      "source": [
        "Q.1. Create two int type variables, apply addition, subtraction, division and multiplications\n",
        "and store the results in variables. Then print the data in the following format by calling the\n",
        "variables:\n",
        "\n",
        "First variable is __ & second variable is __.\n",
        "\n",
        "Addition: __ + __ = __\n",
        "\n",
        "Subtraction: __ - __ = __\n",
        "\n",
        "Multiplication: __ * __ = __\n",
        "\n",
        "Division: __ / __ = __"
      ],
      "metadata": {
        "id": "5a3AABGfW5Y8"
      }
    },
    {
      "cell_type": "code",
      "execution_count": 8,
      "metadata": {
        "colab": {
          "base_uri": "https://localhost:8080/"
        },
        "id": "MN2k7MwAW4pA",
        "outputId": "e33c79ff-d511-4480-8eac-0c0548cb8302"
      },
      "outputs": [
        {
          "output_type": "stream",
          "name": "stdout",
          "text": [
            "102 96 297 33.0\n"
          ]
        }
      ],
      "source": [
        "# First variable is 99 & second variable is 3.\n",
        " # add\n",
        "add = (99 + 3)\n",
        "\n",
        "sub = (99 - 3)\n",
        "\n",
        "multi = (99 * 3)\n",
        "\n",
        "Divi= (99 / 3)\n",
        "\n",
        "print(add, sub, multi, Divi)"
      ]
    },
    {
      "cell_type": "markdown",
      "source": [
        "Q.2. What is the difference between the following operators:\n",
        "\n",
        "(i) ‘/’ & ‘//’\n",
        "\n",
        "(ii) ‘**’ & ‘^’"
      ],
      "metadata": {
        "id": "_xjsqO0Rcmaz"
      }
    },
    {
      "cell_type": "markdown",
      "source": [
        "ANS:- In Python, both / and // are operators used for division. However, they behave differently depending on the type of operands.\n",
        "\n",
        "The / operator performs division and returns the result as a float, even if both operands are integers. For example:"
      ],
      "metadata": {
        "id": "0rMJj1PKfX0q"
      }
    },
    {
      "cell_type": "code",
      "source": [
        ">>> 10 / 3"
      ],
      "metadata": {
        "colab": {
          "base_uri": "https://localhost:8080/"
        },
        "id": "YHDAlxDEclo_",
        "outputId": "7b14c682-4ac1-4af4-8799-e933335924b8"
      },
      "execution_count": 15,
      "outputs": [
        {
          "output_type": "execute_result",
          "data": {
            "text/plain": [
              "3.3333333333333335"
            ]
          },
          "metadata": {},
          "execution_count": 15
        }
      ]
    },
    {
      "cell_type": "markdown",
      "source": [
        "On the other hand, the // operator performs floor division, which returns the result rounded down to the nearest integer. For example"
      ],
      "metadata": {
        "id": "kmi2WLHRfe-a"
      }
    },
    {
      "cell_type": "code",
      "source": [
        ">>> 10 // 3"
      ],
      "metadata": {
        "colab": {
          "base_uri": "https://localhost:8080/"
        },
        "id": "OgqGyiiDclsf",
        "outputId": "b0f42d4f-d3b2-4f3a-b9d8-a59f243d94dc"
      },
      "execution_count": 17,
      "outputs": [
        {
          "output_type": "execute_result",
          "data": {
            "text/plain": [
              "3"
            ]
          },
          "metadata": {},
          "execution_count": 17
        }
      ]
    },
    {
      "cell_type": "markdown",
      "source": [
        "Here, the result is 3 instead of 3.33 because floor division rounds down to the nearest integer.\n",
        "\n",
        "Another example where / and // behave differently is when dividing negative numbers. For instance:"
      ],
      "metadata": {
        "id": "mIRkdJD-jpsu"
      }
    },
    {
      "cell_type": "code",
      "source": [
        ">>> -10 / 3"
      ],
      "metadata": {
        "colab": {
          "base_uri": "https://localhost:8080/"
        },
        "id": "COV7ArynjqTn",
        "outputId": "058e2eba-98dc-4cc2-92a9-f9f081f3b11a"
      },
      "execution_count": 24,
      "outputs": [
        {
          "output_type": "execute_result",
          "data": {
            "text/plain": [
              "-3.3333333333333335"
            ]
          },
          "metadata": {},
          "execution_count": 24
        }
      ]
    },
    {
      "cell_type": "code",
      "source": [
        ">>> -10 // 3"
      ],
      "metadata": {
        "colab": {
          "base_uri": "https://localhost:8080/"
        },
        "id": "p_-RNtSRjqW7",
        "outputId": "a2ffe674-3c07-4305-cca8-758dafbe1a45"
      },
      "execution_count": 22,
      "outputs": [
        {
          "output_type": "execute_result",
          "data": {
            "text/plain": [
              "-4"
            ]
          },
          "metadata": {},
          "execution_count": 22
        }
      ]
    },
    {
      "cell_type": "markdown",
      "source": [
        "Here, we can see that the / operator returns a negative float, while // returns a negative integer rounded down to the nearest whole number"
      ],
      "metadata": {
        "id": "ujLSIvgrkM1k"
      }
    },
    {
      "cell_type": "markdown",
      "source": [
        "Q.3. List the logical operators.\n",
        "\n",
        "\n",
        "ANS Logical Operators are used to perform certain logical operations on values and variables. These are the special reserved keywords that carry out some logical computations. The value the operator operates on is known as Operand. In Python, they are used on conditional statements (either True or False), and as a result, they return boolean only (True or False). They are used to combine conditional statements\n",
        "\n",
        "\n",
        "There are following logical operators supported by Python language:\n",
        "\n",
        "\n",
        "Logical AND\n",
        "\n",
        "Logical OR\n",
        "\n",
        "Logical NOT"
      ],
      "metadata": {
        "id": "KoHq9sHfkcMG"
      }
    },
    {
      "cell_type": "markdown",
      "source": [
        "Q.4. Explain right shift operator and left shift operator with examples.\n",
        "\n",
        "ans:- The bitwise shift operators move the bit values of a binary object. The left operand specifies the value to be shifted. The right operand specifies the number of positions that the bits in the value are to be shifted. The result is not an lvalue.\n"
      ],
      "metadata": {
        "id": "ram2vQ5llTG2"
      }
    },
    {
      "cell_type": "markdown",
      "source": [
        "Q.5. Create a list containing int type data of length 15. Then write a code to check if 10 is\n",
        "\n",
        "present in the list or not."
      ],
      "metadata": {
        "id": "1wf4kywgl43Z"
      }
    },
    {
      "cell_type": "code",
      "source": [],
      "metadata": {
        "id": "xoJfOhoyjqZ8"
      },
      "execution_count": null,
      "outputs": []
    },
    {
      "cell_type": "code",
      "source": [],
      "metadata": {
        "id": "522RMHkTjqdP"
      },
      "execution_count": null,
      "outputs": []
    },
    {
      "cell_type": "code",
      "source": [],
      "metadata": {
        "id": "6NEvfFf3clyP"
      },
      "execution_count": null,
      "outputs": []
    }
  ]
}